{
 "cells": [
  {
   "cell_type": "code",
   "execution_count": 1,
   "metadata": {},
   "outputs": [],
   "source": [
    "import json\n"
   ]
  },
  {
   "cell_type": "code",
   "execution_count": 6,
   "metadata": {},
   "outputs": [],
   "source": [
    "movie = {\n",
    "    \"Baahubali\":\n",
    "    {\n",
    "        \"Director\":\"Rajamouli\",\n",
    "        \"Hero\":\"Prabhas\"\n",
    "    },\n",
    "    \"Salaar\":\n",
    "    {\n",
    "        \"Director\":\"Neel\",\n",
    "        \"Hero\":\"Prabhas\"\n",
    "    },\n",
    "    \"Sahoo\":\n",
    "    {\n",
    "        \"Director\":\"Sujith\",\n",
    "        \"Hero\":\"Prabhas\"\n",
    "    }\n",
    "\n",
    "}"
   ]
  },
  {
   "cell_type": "code",
   "execution_count": 7,
   "metadata": {},
   "outputs": [],
   "source": [
    "with open(\"movie.json\",\"w\") as movies_files:\n",
    "    json.dump(movie,movies_files,indent=4)"
   ]
  },
  {
   "cell_type": "code",
   "execution_count": 8,
   "metadata": {},
   "outputs": [
    {
     "name": "stdout",
     "output_type": "stream",
     "text": [
      "{'Baahubali': {'Director': 'Rajamouli', 'Hero': 'Prabhas'}, 'Salaar': {'Director': 'Neel', 'Hero': 'Prabhas'}, 'Sahoo': {'Director': 'Sujith', 'Hero': 'Prabhas'}}\n"
     ]
    }
   ],
   "source": [
    "with open(\"movie.json\",\"r\") as movies_files:\n",
    "    movie=json.load(movies_files)\n",
    "    print(movie)"
   ]
  },
  {
   "cell_type": "code",
   "execution_count": 10,
   "metadata": {},
   "outputs": [],
   "source": [
    "import yaml"
   ]
  },
  {
   "cell_type": "code",
   "execution_count": 14,
   "metadata": {},
   "outputs": [],
   "source": [
    "movie = {\n",
    "    \"Baahubali\":\n",
    "    {\n",
    "        \"Director\":\"Rajamouli\",\n",
    "        \"Hero\":\"Prabhas\"\n",
    "    },\n",
    "    \"Salaar\":\n",
    "    {\n",
    "        \"Director\":\"Neel\",\n",
    "        \"Hero\":\"Prabhas\"\n",
    "    },\n",
    "    \"Sahoo\":\n",
    "    {\n",
    "        \"Director\":\"Sujith\",\n",
    "        \"Hero\":\"Prabhas\"\n",
    "    }\n",
    "\n",
    "}"
   ]
  },
  {
   "cell_type": "code",
   "execution_count": 25,
   "metadata": {},
   "outputs": [],
   "source": [
    "with open(\"movies.yaml\", \"w\") as movie_files:\n",
    "    yaml.dump(movie,movie_files,indent=4)"
   ]
  },
  {
   "cell_type": "code",
   "execution_count": 23,
   "metadata": {},
   "outputs": [
    {
     "name": "stdout",
     "output_type": "stream",
     "text": [
      "{'Baahubali': {'Director': 'Rajamouli', 'Hero': 'Prabhas'}, 'Sahoo': {'Director': 'Sujith', 'Hero': 'Prabhas'}, 'Salaar': {'Director': 'Neel', 'Hero': 'Prabhas'}}\n"
     ]
    }
   ],
   "source": [
    "movie = dict()\n",
    "with open(\"movies.yaml\",\"r\") as movie_files:\n",
    "    movie = yaml.safe_load(movie_files)\n",
    "    print(movie)"
   ]
  }
 ],
 "metadata": {
  "kernelspec": {
   "display_name": "Python 3",
   "language": "python",
   "name": "python3"
  },
  "language_info": {
   "codemirror_mode": {
    "name": "ipython",
    "version": 3
   },
   "file_extension": ".py",
   "mimetype": "text/x-python",
   "name": "python",
   "nbconvert_exporter": "python",
   "pygments_lexer": "ipython3",
   "version": "3.11.9"
  }
 },
 "nbformat": 4,
 "nbformat_minor": 2
}
