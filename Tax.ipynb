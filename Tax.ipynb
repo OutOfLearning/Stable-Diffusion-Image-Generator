{
 "cells": [
  {
   "cell_type": "markdown",
   "metadata": {},
   "source": [
    "# upto 4,00,000 --> Tax = Nil\n",
    "4,00,001 to 8,00,000 --> Tax = 5%\n",
    "8,00,001 to 12,00,000 --> Tax = 10%\n",
    "12,00,001 to 16,00,000 --> Tax = 15%\n",
    "16,00,001 to 20,00,000 --> Tax = 20%\n",
    "20,00,001 to 24,00,000 --> Tax = 25%\n",
    "Above 24,00,001 --> Tax = 30%"
   ]
  },
  {
   "cell_type": "markdown",
   "metadata": {},
   "source": [
    "# Tax Calc\n",
    "1200000 \n",
    "4 lpa to 8 lpa = 400000*0.05\n",
    "8 lpa to 12 lpa = 1200000 - 1150000 = 50000 so, 4,00,000 - 50,000 = 3,50,000 * 0.1"
   ]
  },
  {
   "cell_type": "code",
   "execution_count": null,
   "metadata": {},
   "outputs": [
    {
     "ename": "",
     "evalue": "",
     "output_type": "error",
     "traceback": [
      "\u001b[1;31mRunning cells with 'Python 3.11.9' requires the ipykernel package.\n",
      "\u001b[1;31mRun the following command to install 'ipykernel' into the Python environment. \n",
      "\u001b[1;31mCommand: 'c:/Users/HP/AppData/Local/Programs/Python/Python311/python.exe -m pip install ipykernel -U --user --force-reinstall'"
     ]
    }
   ],
   "source": [
    "Salary = 700000\n",
    "Standard_Deduction = 50000\n",
    "Total=0\n",
    "Taxable_Amount = Salary - Standard_Deduction\n",
    "if Taxable_Amount >= 2400000:\n",
    "    effective = Taxable_Amount - 2400000\n",
    "    Tax1=effective * 0.30\n",
    "    Taxable_Amount = Taxable_Amount - effective\n",
    "    Total = Total + Tax1\n",
    "    return Total \n",
    "    print(Tax1)\n",
    "    if 2000000 <= Taxable_Amount <=2400000:\n",
    "        effective = Taxable_Amount - 2000000\n",
    "        Tax2=effective * 0.25\n",
    "        Taxable_Amount = Taxable_Amount - effective\n",
    "        Total = Total + Tax2\n",
    "        return Total\n",
    "        print(Tax2)\n",
    "        if 1600000 <= Taxable_Amount <=2000000:\n",
    "            effective = Taxable_Amount - 1600000\n",
    "            Tax3=effective * 0.20\n",
    "            Taxable_Amount = Taxable_Amount - effective\n",
    "            Total = Total + Tax3\n",
    "            return Total\n",
    "            print(Tax3)\n",
    "            if 1200000 <= Taxable_Amount <=1600000:\n",
    "                effective = Taxable_Amount - 1200000\n",
    "                Tax4=effective * 0.15\n",
    "                Taxable_Amount = Taxable_Amount - effective\n",
    "                Total = Total + Tax4\n",
    "                return Total\n",
    "                print(Tax4)\n",
    "                if 800000 <= Taxable_Amount <=1200000:\n",
    "                    effective = Taxable_Amount - 800000\n",
    "                    Tax5=effective * 0.10\n",
    "                    Taxable_Amount = Taxable_Amount - effective\n",
    "                    Total = Total + Tax5\n",
    "                    return Total\n",
    "                    print(Tax5)\n",
    "                    if 400000 <= Taxable_Amount <= 800000:\n",
    "                        effective = Taxable_Amount - 400000\n",
    "                        Tax6=effective * 0.05\n",
    "                        Taxable_Amount = Taxable_Amount - effective\n",
    "                        Total = Total + Tax6\n",
    "                        return Total\n",
    "                        print(Tax6)\n",
    "                        if Taxable_Amount <=  400000:\n",
    "                            Tax7 = 0\n",
    "                            Total = Total + Tax7\n",
    "                            return Total\n",
    "                            print(Tax7)\n",
    "\n",
    "print(Total)\n",
    "    \n",
    "\n",
    "\n",
    "\n",
    "    "
   ]
  },
  {
   "cell_type": "code",
   "execution_count": 2,
   "metadata": {},
   "outputs": [
    {
     "ename": "TypeError",
     "evalue": "'str' object is not callable",
     "output_type": "error",
     "traceback": [
      "\u001b[31m---------------------------------------------------------------------------\u001b[39m",
      "\u001b[31mTypeError\u001b[39m                                 Traceback (most recent call last)",
      "\u001b[36mCell\u001b[39m\u001b[36m \u001b[39m\u001b[32mIn[2]\u001b[39m\u001b[32m, line 2\u001b[39m\n\u001b[32m      1\u001b[39m Text = \u001b[33m\"\u001b[39m\u001b[33mHello World\u001b[39m\u001b[33m\"\u001b[39m\n\u001b[32m----> \u001b[39m\u001b[32m2\u001b[39m \u001b[38;5;28;01mfor\u001b[39;00m index \u001b[38;5;129;01min\u001b[39;00m \u001b[43mText\u001b[49m\u001b[43m(\u001b[49m\u001b[43m)\u001b[49m:\n\u001b[32m      3\u001b[39m     \u001b[38;5;28mprint\u001b[39m(index)\n",
      "\u001b[31mTypeError\u001b[39m: 'str' object is not callable"
     ]
    }
   ],
   "source": [
    "Text = \"Hello World\"\n",
    "for index in Text():\n",
    "    print(index)"
   ]
  }
 ],
 "metadata": {
  "kernelspec": {
   "display_name": "Python 3",
   "language": "python",
   "name": "python3"
  },
  "language_info": {
   "codemirror_mode": {
    "name": "ipython",
    "version": 3
   },
   "file_extension": ".py",
   "mimetype": "text/x-python",
   "name": "python",
   "nbconvert_exporter": "python",
   "pygments_lexer": "ipython3",
   "version": "3.11.9"
  }
 },
 "nbformat": 4,
 "nbformat_minor": 2
}
